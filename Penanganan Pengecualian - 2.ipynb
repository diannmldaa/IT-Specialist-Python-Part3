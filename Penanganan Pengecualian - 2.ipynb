{
 "cells": [
  {
   "cell_type": "markdown",
   "id": "1b9f33e3",
   "metadata": {},
   "source": [
    "### Penanganan Pengecualian"
   ]
  },
  {
   "cell_type": "markdown",
   "id": "31ac82e0",
   "metadata": {},
   "source": [
    "https://docs.python.org/id/3.8/library/exceptions.html"
   ]
  },
  {
   "cell_type": "markdown",
   "id": "cc3601da",
   "metadata": {},
   "source": [
    "Proses penanganan pengecualian menggunakan pernyataan try yang berpasangan dengan except\n",
    "\n",
    "Misalnya kita ingin menangani pengecualian yang terjadi jika ada pembagian angka dengan nilai nol (0)."
   ]
  },
  {
   "cell_type": "code",
   "execution_count": 1,
   "id": "80fe859d",
   "metadata": {},
   "outputs": [
    {
     "ename": "ZeroDivisionError",
     "evalue": "division by zero",
     "output_type": "error",
     "traceback": [
      "\u001b[1;31m---------------------------------------------------------------------------\u001b[0m",
      "\u001b[1;31mZeroDivisionError\u001b[0m                         Traceback (most recent call last)",
      "\u001b[1;32m<ipython-input-1-4ccb79050c87>\u001b[0m in \u001b[0;36m<module>\u001b[1;34m\u001b[0m\n\u001b[0;32m      1\u001b[0m \u001b[0ma\u001b[0m \u001b[1;33m=\u001b[0m \u001b[1;36m0\u001b[0m\u001b[1;33m\u001b[0m\u001b[1;33m\u001b[0m\u001b[0m\n\u001b[1;32m----> 2\u001b[1;33m \u001b[0mbagi\u001b[0m \u001b[1;33m=\u001b[0m \u001b[1;36m1\u001b[0m\u001b[1;33m/\u001b[0m\u001b[0ma\u001b[0m\u001b[1;33m\u001b[0m\u001b[1;33m\u001b[0m\u001b[0m\n\u001b[0m",
      "\u001b[1;31mZeroDivisionError\u001b[0m: division by zero"
     ]
    }
   ],
   "source": [
    "a = 0\n",
    "bagi = 1/a"
   ]
  },
  {
   "cell_type": "code",
   "execution_count": 3,
   "id": "aa278b72",
   "metadata": {},
   "outputs": [
    {
     "name": "stdout",
     "output_type": "stream",
     "text": [
      "tidak bisa membagi angka dengan nilai 0\n"
     ]
    }
   ],
   "source": [
    "a = 0\n",
    "\n",
    "try:\n",
    "    bagi = 1/a\n",
    "    print(bagi)\n",
    "except ZeroDivisionError:\n",
    "    print('tidak bisa membagi angka dengan nilai 0')"
   ]
  },
  {
   "cell_type": "markdown",
   "id": "364321ce",
   "metadata": {},
   "source": [
    "ZeroDivisonError adalah exception yang terjadi saat eksekusi program menghasilkan perhitungan matematika pembagian dengan angka nol\n",
    "\n",
    "Penanganan pengecualian untuk ZeroDivisionError dilakukan sehingga aplikasi tidak lagi keluar dari eksekusi karena kesalahan tapi digantikan dengan mencetak pesan ke layar"
   ]
  },
  {
   "cell_type": "markdown",
   "id": "7f8c0055",
   "metadata": {},
   "source": [
    "Task"
   ]
  },
  {
   "cell_type": "markdown",
   "id": "3b0be174",
   "metadata": {},
   "source": [
    "1. FileNotFoundError"
   ]
  },
  {
   "cell_type": "code",
   "execution_count": 30,
   "id": "399c363e",
   "metadata": {},
   "outputs": [
    {
     "ename": "FileNotFoundError",
     "evalue": "[Errno 2] No such file or directory: 'contoh.txt'",
     "output_type": "error",
     "traceback": [
      "\u001b[1;31m---------------------------------------------------------------------------\u001b[0m",
      "\u001b[1;31mFileNotFoundError\u001b[0m                         Traceback (most recent call last)",
      "\u001b[1;32m<ipython-input-30-0898f2c18525>\u001b[0m in \u001b[0;36m<module>\u001b[1;34m\u001b[0m\n\u001b[1;32m----> 1\u001b[1;33m \u001b[1;32mwith\u001b[0m \u001b[0mopen\u001b[0m\u001b[1;33m(\u001b[0m\u001b[1;34m'contoh.txt'\u001b[0m\u001b[1;33m)\u001b[0m \u001b[1;32mas\u001b[0m \u001b[0mfile\u001b[0m\u001b[1;33m:\u001b[0m\u001b[1;33m\u001b[0m\u001b[1;33m\u001b[0m\u001b[0m\n\u001b[0m\u001b[0;32m      2\u001b[0m         \u001b[0mprint\u001b[0m\u001b[1;33m(\u001b[0m\u001b[0mfile\u001b[0m\u001b[1;33m.\u001b[0m\u001b[0mread\u001b[0m\u001b[1;33m(\u001b[0m\u001b[1;33m)\u001b[0m\u001b[1;33m)\u001b[0m\u001b[1;33m\u001b[0m\u001b[1;33m\u001b[0m\u001b[0m\n",
      "\u001b[1;31mFileNotFoundError\u001b[0m: [Errno 2] No such file or directory: 'contoh.txt'"
     ]
    }
   ],
   "source": [
    "with open('contoh.txt') as file:\n",
    "        print(file.read())"
   ]
  },
  {
   "cell_type": "code",
   "execution_count": 32,
   "id": "40e8bd64",
   "metadata": {},
   "outputs": [
    {
     "name": "stdout",
     "output_type": "stream",
     "text": [
      "file tidak ditemukan\n"
     ]
    }
   ],
   "source": [
    "try:\n",
    "    with open('contoh.txt') as file:\n",
    "        print(file.read())\n",
    "except (FileNotFoundError, ):\n",
    "    print('file tidak ditemukan')"
   ]
  },
  {
   "cell_type": "markdown",
   "id": "4c371a6f",
   "metadata": {},
   "source": [
    "2. ValueError"
   ]
  },
  {
   "cell_type": "code",
   "execution_count": 18,
   "id": "af5f0517",
   "metadata": {},
   "outputs": [
    {
     "name": "stdout",
     "output_type": "stream",
     "text": [
      "s\n"
     ]
    },
    {
     "ename": "ValueError",
     "evalue": "invalid literal for int() with base 10: 's'",
     "output_type": "error",
     "traceback": [
      "\u001b[1;31m---------------------------------------------------------------------------\u001b[0m",
      "\u001b[1;31mValueError\u001b[0m                                Traceback (most recent call last)",
      "\u001b[1;32m<ipython-input-18-b18148c418c0>\u001b[0m in \u001b[0;36m<module>\u001b[1;34m\u001b[0m\n\u001b[1;32m----> 1\u001b[1;33m \u001b[0mx\u001b[0m \u001b[1;33m=\u001b[0m \u001b[0mint\u001b[0m\u001b[1;33m(\u001b[0m\u001b[0minput\u001b[0m\u001b[1;33m(\u001b[0m\u001b[1;33m)\u001b[0m\u001b[1;33m)\u001b[0m\u001b[1;33m\u001b[0m\u001b[1;33m\u001b[0m\u001b[0m\n\u001b[0m",
      "\u001b[1;31mValueError\u001b[0m: invalid literal for int() with base 10: 's'"
     ]
    }
   ],
   "source": [
    "x = int(input())"
   ]
  },
  {
   "cell_type": "code",
   "execution_count": 38,
   "id": "1dd350b5",
   "metadata": {},
   "outputs": [
    {
     "name": "stdout",
     "output_type": "stream",
     "text": [
      "o\n",
      "Nilai masukan belum benar\n"
     ]
    }
   ],
   "source": [
    "try:\n",
    "    x = int(input())\n",
    "    if (x.isdecimal()):\n",
    "        print('Nilai masukan sudah benar')\n",
    "except ValueError:\n",
    "    print('Nilai masukan belum benar')"
   ]
  },
  {
   "cell_type": "markdown",
   "id": "04c6d587",
   "metadata": {},
   "source": [
    "----------------------------"
   ]
  },
  {
   "cell_type": "code",
   "execution_count": 22,
   "id": "500f05ef",
   "metadata": {},
   "outputs": [
    {
     "ename": "FileNotFoundError",
     "evalue": "[Errno 2] No such file or directory: 'contoh_tidak_ada.py'",
     "output_type": "error",
     "traceback": [
      "\u001b[1;31m---------------------------------------------------------------------------\u001b[0m",
      "\u001b[1;31mFileNotFoundError\u001b[0m                         Traceback (most recent call last)",
      "\u001b[1;32m<ipython-input-22-5020df40eeea>\u001b[0m in \u001b[0;36m<module>\u001b[1;34m\u001b[0m\n\u001b[1;32m----> 1\u001b[1;33m \u001b[0mopen\u001b[0m\u001b[1;33m(\u001b[0m\u001b[1;34m'contoh_tidak_ada.py'\u001b[0m\u001b[1;33m)\u001b[0m\u001b[1;33m\u001b[0m\u001b[1;33m\u001b[0m\u001b[0m\n\u001b[0m",
      "\u001b[1;31mFileNotFoundError\u001b[0m: [Errno 2] No such file or directory: 'contoh_tidak_ada.py'"
     ]
    }
   ],
   "source": [
    "open('contoh_tidak_ada.py')"
   ]
  },
  {
   "cell_type": "code",
   "execution_count": 25,
   "id": "6300055d",
   "metadata": {},
   "outputs": [
    {
     "name": "stdout",
     "output_type": "stream",
     "text": [
      "file tidak ditemukan\n"
     ]
    }
   ],
   "source": [
    "try:\n",
    "    with open('contoh_tidak_ada.py') as file:\n",
    "        print(file.read())\n",
    "except FileNotFoundError:\n",
    "    print('file tidak ditemukan')"
   ]
  },
  {
   "cell_type": "markdown",
   "id": "19d73868",
   "metadata": {},
   "source": [
    "Misalkan menangani FileNotFoundError sebagai tuple satu elemen, jangan lupa dalam menuliskan tuple satu elemen harus tetap diakhiri dengan koma"
   ]
  },
  {
   "cell_type": "code",
   "execution_count": 26,
   "id": "7f21c4da",
   "metadata": {},
   "outputs": [
    {
     "name": "stdout",
     "output_type": "stream",
     "text": [
      "file tidak ditemukan\n"
     ]
    }
   ],
   "source": [
    "try:\n",
    "    with open('contoh_tidak_ada.py') as file:\n",
    "        print(file.read())\n",
    "except (FileNotFoundError, ):\n",
    "    print('file tidak ditemukan')"
   ]
  },
  {
   "cell_type": "markdown",
   "id": "7ff8bff1",
   "metadata": {},
   "source": [
    "Dengan pasangan pernyataan try dan except, aplikasi tidak berhenti tetapi mencetak di layar bahwa file tidak ditemukan"
   ]
  },
  {
   "cell_type": "code",
   "execution_count": 38,
   "id": "67648122",
   "metadata": {},
   "outputs": [],
   "source": [
    "d = {'rata-rata': '10.0'}"
   ]
  },
  {
   "cell_type": "code",
   "execution_count": 39,
   "id": "626a4d1f",
   "metadata": {},
   "outputs": [
    {
     "ename": "KeyError",
     "evalue": "'rata_rata'",
     "output_type": "error",
     "traceback": [
      "\u001b[1;31m---------------------------------------------------------------------------\u001b[0m",
      "\u001b[1;31mKeyError\u001b[0m                                  Traceback (most recent call last)",
      "\u001b[1;32m<ipython-input-39-4d801e41c434>\u001b[0m in \u001b[0;36m<module>\u001b[1;34m\u001b[0m\n\u001b[1;32m----> 1\u001b[1;33m \u001b[0mprint\u001b[0m\u001b[1;33m(\u001b[0m\u001b[1;34m'rata-rata: {}'\u001b[0m\u001b[1;33m.\u001b[0m\u001b[0mformat\u001b[0m\u001b[1;33m(\u001b[0m\u001b[0md\u001b[0m\u001b[1;33m[\u001b[0m\u001b[1;34m'rata_rata'\u001b[0m\u001b[1;33m]\u001b[0m\u001b[1;33m)\u001b[0m\u001b[1;33m)\u001b[0m\u001b[1;33m\u001b[0m\u001b[1;33m\u001b[0m\u001b[0m\n\u001b[0m",
      "\u001b[1;31mKeyError\u001b[0m: 'rata_rata'"
     ]
    }
   ],
   "source": [
    "print('rata-rata: {}'.format(d['rata_rata']))"
   ]
  },
  {
   "cell_type": "markdown",
   "id": "7c59f293",
   "metadata": {},
   "source": [
    "Dalam aplikasi yang lebih kompleks, penanganan pengecualian dapat menggunakan pernyataan except lebih dari satu. Di contoh berikutnya akan menggunakan pernyataan except lebih dari satu (untuk satu pernyataan try)"
   ]
  },
  {
   "cell_type": "code",
   "execution_count": 27,
   "id": "460c1060",
   "metadata": {},
   "outputs": [
    {
     "name": "stdout",
     "output_type": "stream",
     "text": [
      "Kunci tidak ditemukan di dictionary\n"
     ]
    }
   ],
   "source": [
    "d = {'rata-rata': '10.0'}\n",
    "\n",
    "try:\n",
    "    print('rata-rata: {}'.format(d['rata_rata']))\n",
    "except KeyError:\n",
    "    print('Kunci tidak ditemukan di dictionary')\n",
    "except ValueError:\n",
    "    print('Nilai tidak sesuai')"
   ]
  },
  {
   "cell_type": "markdown",
   "id": "35bf245f",
   "metadata": {},
   "source": [
    "Dalam aplikasi yang lebih kompleks, penanganan pengecualian dapat menggunakan satu pernyataan except yang menangani lebih dari satu tipe kesalahan yang digabung  dalam sebuha tuple"
   ]
  },
  {
   "cell_type": "code",
   "execution_count": 28,
   "id": "19194e95",
   "metadata": {},
   "outputs": [
    {
     "name": "stdout",
     "output_type": "stream",
     "text": [
      "Kunci tidak ditemukan di dictionary\n"
     ]
    }
   ],
   "source": [
    "d = {'rata-rata': '10.0'}\n",
    "\n",
    "try:\n",
    "    print('rata-rata: {}'.format(d['rata_rata']))\n",
    "except (KeyError, ValueError):\n",
    "    print('Kunci tidak ditemukan di dictionary')"
   ]
  },
  {
   "cell_type": "markdown",
   "id": "56202cff",
   "metadata": {},
   "source": [
    "Task"
   ]
  },
  {
   "cell_type": "code",
   "execution_count": 106,
   "id": "dbfe3724",
   "metadata": {},
   "outputs": [
    {
     "name": "stdout",
     "output_type": "stream",
     "text": [
      "0\n",
      "Kesalahan pada perhitungan\n"
     ]
    }
   ],
   "source": [
    "a = 10\n",
    "b = input()\n",
    "\n",
    "try:\n",
    "  hasil = a/b\n",
    "  print(hasil)\n",
    "except ZeroDivisionError:\n",
    "    print('Tidak bisa membagi dengan nilai 0')\n",
    "except (TypeError, ):\n",
    "    print('Kesalahan pada perhitungan')"
   ]
  },
  {
   "cell_type": "code",
   "execution_count": null,
   "id": "3231742d",
   "metadata": {},
   "outputs": [],
   "source": []
  }
 ],
 "metadata": {
  "kernelspec": {
   "display_name": "Python 3",
   "language": "python",
   "name": "python3"
  },
  "language_info": {
   "codemirror_mode": {
    "name": "ipython",
    "version": 3
   },
   "file_extension": ".py",
   "mimetype": "text/x-python",
   "name": "python",
   "nbconvert_exporter": "python",
   "pygments_lexer": "ipython3",
   "version": "3.8.8"
  }
 },
 "nbformat": 4,
 "nbformat_minor": 5
}

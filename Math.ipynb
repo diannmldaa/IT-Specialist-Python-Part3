{
 "cells": [
  {
   "cell_type": "markdown",
   "id": "a9d2170a",
   "metadata": {},
   "source": [
    "#### Math"
   ]
  },
  {
   "cell_type": "code",
   "execution_count": 1,
   "id": "a7983d95",
   "metadata": {},
   "outputs": [],
   "source": [
    "import math"
   ]
  },
  {
   "cell_type": "code",
   "execution_count": 2,
   "id": "0eafdb17",
   "metadata": {},
   "outputs": [
    {
     "data": {
      "text/plain": [
       "3.141592653589793"
      ]
     },
     "execution_count": 2,
     "metadata": {},
     "output_type": "execute_result"
    }
   ],
   "source": [
    "pi = math.pi\n",
    "pi"
   ]
  },
  {
   "cell_type": "code",
   "execution_count": 4,
   "id": "34526563",
   "metadata": {},
   "outputs": [
    {
     "data": {
      "text/plain": [
       "4"
      ]
     },
     "execution_count": 4,
     "metadata": {},
     "output_type": "execute_result"
    }
   ],
   "source": [
    "upperBound = math.ceil(pi)\n",
    "upperBound #pembulatan ke atas"
   ]
  },
  {
   "cell_type": "code",
   "execution_count": 5,
   "id": "58c1fe82",
   "metadata": {},
   "outputs": [
    {
     "data": {
      "text/plain": [
       "3"
      ]
     },
     "execution_count": 5,
     "metadata": {},
     "output_type": "execute_result"
    }
   ],
   "source": [
    "lowerBound = math.floor(pi)\n",
    "lowerBound #pembulatan ke bawah"
   ]
  },
  {
   "cell_type": "code",
   "execution_count": 8,
   "id": "47f51fc3",
   "metadata": {},
   "outputs": [
    {
     "data": {
      "text/plain": [
       "2.718281828459045"
      ]
     },
     "execution_count": 8,
     "metadata": {},
     "output_type": "execute_result"
    }
   ],
   "source": [
    "exp = math.exp(1)\n",
    "expS"
   ]
  },
  {
   "cell_type": "markdown",
   "id": "538d3bfd",
   "metadata": {},
   "source": [
    "Task"
   ]
  },
  {
   "cell_type": "code",
   "execution_count": 13,
   "id": "4c32f0b8",
   "metadata": {},
   "outputs": [
    {
     "data": {
      "text/plain": [
       "314.1592653589793"
      ]
     },
     "execution_count": 13,
     "metadata": {},
     "output_type": "execute_result"
    }
   ],
   "source": [
    "r = 10\n",
    "pi = math.pi\n",
    "\n",
    "luas_lingkaran = pi*(r**2)\n",
    "luas_lingkaran"
   ]
  },
  {
   "cell_type": "code",
   "execution_count": 14,
   "id": "ffcc95bb",
   "metadata": {},
   "outputs": [
    {
     "data": {
      "text/plain": [
       "315"
      ]
     },
     "execution_count": 14,
     "metadata": {},
     "output_type": "execute_result"
    }
   ],
   "source": [
    "upperBound = math.ceil(luas_lingkaran)\n",
    "upperBound"
   ]
  },
  {
   "cell_type": "code",
   "execution_count": 15,
   "id": "56329878",
   "metadata": {},
   "outputs": [
    {
     "data": {
      "text/plain": [
       "314"
      ]
     },
     "execution_count": 15,
     "metadata": {},
     "output_type": "execute_result"
    }
   ],
   "source": [
    "lowerBound = math.floor(luas_lingkaran)\n",
    "lowerBound"
   ]
  },
  {
   "cell_type": "code",
   "execution_count": 25,
   "id": "2f7d2459",
   "metadata": {},
   "outputs": [
    {
     "name": "stdout",
     "output_type": "stream",
     "text": [
      "7\n",
      "Luas lingkaran dengan jari-jari 7 adalah 153.93804002589985\n"
     ]
    }
   ],
   "source": [
    "import math\n",
    "\n",
    "def luaslingkaran(r):\n",
    "    r = int(input())\n",
    "    pi = math.pi\n",
    "    luas = pi*(r**2)\n",
    "    return print('Luas lingkaran dengan jari-jari {} adalah {}'.format(r, luas))\n",
    "\n",
    "luaslingkaran(r)"
   ]
  },
  {
   "cell_type": "code",
   "execution_count": null,
   "id": "6429585a",
   "metadata": {},
   "outputs": [],
   "source": []
  }
 ],
 "metadata": {
  "kernelspec": {
   "display_name": "Python 3",
   "language": "python",
   "name": "python3"
  },
  "language_info": {
   "codemirror_mode": {
    "name": "ipython",
    "version": 3
   },
   "file_extension": ".py",
   "mimetype": "text/x-python",
   "name": "python",
   "nbconvert_exporter": "python",
   "pygments_lexer": "ipython3",
   "version": "3.8.8"
  }
 },
 "nbformat": 4,
 "nbformat_minor": 5
}

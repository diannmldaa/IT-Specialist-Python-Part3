{
 "cells": [
  {
   "cell_type": "code",
   "execution_count": 4,
   "id": "6e7b0edc",
   "metadata": {},
   "outputs": [
    {
     "name": "stdout",
     "output_type": "stream",
     "text": [
      "What do you want to write to the log?Gaada\n"
     ]
    }
   ],
   "source": [
    "with open('log.txt', 'w') as writeFile:\n",
    "    toLog = input(\"What do you want to write to the log?\") \n",
    "    writeFile.write(toLog) #sifatnya adalah replace"
   ]
  },
  {
   "cell_type": "markdown",
   "id": "08e190a5",
   "metadata": {},
   "source": [
    "Task"
   ]
  },
  {
   "cell_type": "code",
   "execution_count": 3,
   "id": "d5c05dad",
   "metadata": {},
   "outputs": [
    {
     "name": "stdout",
     "output_type": "stream",
     "text": [
      "Catatan hari ini:Makan 3x \\nBelajar buat UTS \\nTidur yang cuku, jangan begadang\n"
     ]
    }
   ],
   "source": [
    "with open('notes.txt', 'w') as writeFile:\n",
    "    masukan = input(\"Catatan hari ini:\") \n",
    "    writeFile.write(masukan) #sifatnya adalah replace"
   ]
  },
  {
   "cell_type": "code",
   "execution_count": 5,
   "id": "bc937131",
   "metadata": {},
   "outputs": [
    {
     "name": "stdout",
     "output_type": "stream",
     "text": [
      "Catatan hari ini:Makan 3x\n",
      "Terus apa lagi?Belajar\n",
      "Satu lagi coba:Tidur tepat waktu\n"
     ]
    }
   ],
   "source": [
    "with open('notes.txt', 'w') as writeFile:\n",
    "    masukan1 = input(\"Catatan hari ini:\") \n",
    "    masukan2 = input(\"Terus apa lagi?\") \n",
    "    masukan3 = input(\"Satu lagi coba:\") \n",
    "    writeFile.write(masukan1)\n",
    "    writeFile.write(masukan2)\n",
    "    writeFile.write(masukan3)"
   ]
  },
  {
   "cell_type": "code",
   "execution_count": null,
   "id": "e77d1485",
   "metadata": {},
   "outputs": [],
   "source": []
  }
 ],
 "metadata": {
  "kernelspec": {
   "display_name": "Python 3",
   "language": "python",
   "name": "python3"
  },
  "language_info": {
   "codemirror_mode": {
    "name": "ipython",
    "version": 3
   },
   "file_extension": ".py",
   "mimetype": "text/x-python",
   "name": "python",
   "nbconvert_exporter": "python",
   "pygments_lexer": "ipython3",
   "version": "3.8.8"
  }
 },
 "nbformat": 4,
 "nbformat_minor": 5
}

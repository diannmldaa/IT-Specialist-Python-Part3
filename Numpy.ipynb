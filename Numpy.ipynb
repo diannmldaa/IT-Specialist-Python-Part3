{
 "cells": [
  {
   "cell_type": "markdown",
   "id": "2fb75c53",
   "metadata": {},
   "source": [
    "### Numpy"
   ]
  },
  {
   "cell_type": "code",
   "execution_count": 1,
   "id": "98b52bde",
   "metadata": {},
   "outputs": [],
   "source": [
    "import numpy as np"
   ]
  },
  {
   "cell_type": "code",
   "execution_count": 2,
   "id": "46153533",
   "metadata": {},
   "outputs": [
    {
     "name": "stdout",
     "output_type": "stream",
     "text": [
      "1.20.1\n"
     ]
    }
   ],
   "source": [
    "#checking numpy version\n",
    "print(np.__version__)"
   ]
  },
  {
   "cell_type": "code",
   "execution_count": 3,
   "id": "8fc797eb",
   "metadata": {},
   "outputs": [
    {
     "name": "stdout",
     "output_type": "stream",
     "text": [
      "[1 2 3 4 5]\n"
     ]
    }
   ],
   "source": [
    "#creating a numpy array\n",
    "\n",
    "arr = np.array([1,2,3,4,5])\n",
    "print(arr)"
   ]
  },
  {
   "cell_type": "code",
   "execution_count": 4,
   "id": "5b8b05d9",
   "metadata": {},
   "outputs": [
    {
     "name": "stdout",
     "output_type": "stream",
     "text": [
      "[1 2 3 4 5]\n",
      "<class 'numpy.ndarray'>\n"
     ]
    }
   ],
   "source": [
    "import numpy as np\n",
    "\n",
    "arr = np.array([1,2,3,4,5])\n",
    "print(arr)\n",
    "print(type(arr))"
   ]
  },
  {
   "cell_type": "code",
   "execution_count": 5,
   "id": "dfa36b2f",
   "metadata": {},
   "outputs": [
    {
     "name": "stdout",
     "output_type": "stream",
     "text": [
      "[1 2 3 4 5]\n"
     ]
    }
   ],
   "source": [
    "#use a tuple to create a numpy array\n",
    "\n",
    "import numpy as np\n",
    "arr = np.array((1,2,3,4,5))\n",
    "print(arr)"
   ]
  },
  {
   "cell_type": "markdown",
   "id": "98e7a817",
   "metadata": {},
   "source": [
    "Task"
   ]
  },
  {
   "cell_type": "code",
   "execution_count": 6,
   "id": "4889c15d",
   "metadata": {},
   "outputs": [
    {
     "name": "stdout",
     "output_type": "stream",
     "text": [
      "1.20.1\n"
     ]
    }
   ],
   "source": [
    "print(np.__version__)"
   ]
  },
  {
   "cell_type": "code",
   "execution_count": 7,
   "id": "790e120b",
   "metadata": {},
   "outputs": [
    {
     "name": "stdout",
     "output_type": "stream",
     "text": [
      "['kucing' 'kelinci' 'merpati']\n"
     ]
    }
   ],
   "source": [
    "#list\n",
    "import numpy as np\n",
    "data_list = np.array(['kucing', 'kelinci', 'merpati'])\n",
    "print(data_list)"
   ]
  },
  {
   "cell_type": "code",
   "execution_count": 8,
   "id": "2109096a",
   "metadata": {},
   "outputs": [
    {
     "name": "stdout",
     "output_type": "stream",
     "text": [
      "['kucing' 'kelinci' 'merpati']\n"
     ]
    }
   ],
   "source": [
    "#tuple\n",
    "import numpy as np\n",
    "data_tuple = np.array(('kucing', 'kelinci', 'merpati'))\n",
    "print(data_tuple)"
   ]
  },
  {
   "cell_type": "markdown",
   "id": "b810730f",
   "metadata": {},
   "source": [
    "#### Dimensions in Arrays\n",
    "\n",
    "A dimension in arrays is one level of array depth (nested arrays)."
   ]
  },
  {
   "cell_type": "code",
   "execution_count": 9,
   "id": "3c433942",
   "metadata": {},
   "outputs": [
    {
     "name": "stdout",
     "output_type": "stream",
     "text": [
      "42\n"
     ]
    }
   ],
   "source": [
    "# 0-D Array\n",
    "import numpy as np\n",
    "arr = np.array(42)\n",
    "print(arr)"
   ]
  },
  {
   "cell_type": "code",
   "execution_count": 10,
   "id": "24704454",
   "metadata": {},
   "outputs": [
    {
     "name": "stdout",
     "output_type": "stream",
     "text": [
      "[1 2 3 4 5]\n"
     ]
    }
   ],
   "source": [
    "# 1-D Array\n",
    "import numpy as np\n",
    "arr = np.array([1,2,3,4,5])\n",
    "print(arr)"
   ]
  },
  {
   "cell_type": "code",
   "execution_count": 11,
   "id": "5a92620a",
   "metadata": {},
   "outputs": [
    {
     "name": "stdout",
     "output_type": "stream",
     "text": [
      "[[1 2 3]\n",
      " [4 5 6]]\n"
     ]
    }
   ],
   "source": [
    "# 2-D Array\n",
    "import numpy as np\n",
    "arr = np.array([[1,2,3],[4,5,6]])\n",
    "print(arr)"
   ]
  },
  {
   "cell_type": "code",
   "execution_count": 12,
   "id": "d52175f9",
   "metadata": {},
   "outputs": [
    {
     "name": "stdout",
     "output_type": "stream",
     "text": [
      "[[[1 2 3]\n",
      "  [4 5 6]]\n",
      "\n",
      " [[1 2 3]\n",
      "  [4 5 6]]]\n"
     ]
    }
   ],
   "source": [
    "#create a 3-D array with two 2-D arrays, both containing two arrays\n",
    "import numpy as np\n",
    "arr = np.array([[[1,2,3],[4,5,6]], [[1,2,3],[4,5,6]]])\n",
    "print(arr)"
   ]
  },
  {
   "cell_type": "markdown",
   "id": "26b637a4",
   "metadata": {},
   "source": [
    "Task"
   ]
  },
  {
   "cell_type": "code",
   "execution_count": 13,
   "id": "d29ac6db",
   "metadata": {},
   "outputs": [
    {
     "name": "stdout",
     "output_type": "stream",
     "text": [
      "Kucing\n"
     ]
    }
   ],
   "source": [
    "# 0-D Array\n",
    "import numpy as np\n",
    "arr = np.array('Kucing')\n",
    "print(arr)"
   ]
  },
  {
   "cell_type": "code",
   "execution_count": 14,
   "id": "de7cddf9",
   "metadata": {},
   "outputs": [
    {
     "name": "stdout",
     "output_type": "stream",
     "text": [
      "['kucing11' 'kucing12' 'kucing13']\n"
     ]
    }
   ],
   "source": [
    "# 1-D Array\n",
    "import numpy as np\n",
    "arr = np.array(['kucing11', 'kucing12', 'kucing13'])\n",
    "print(arr)"
   ]
  },
  {
   "cell_type": "code",
   "execution_count": 15,
   "id": "9c03cc73",
   "metadata": {},
   "outputs": [
    {
     "name": "stdout",
     "output_type": "stream",
     "text": [
      "[['kucing11' 'kucing12' 'kucing13']\n",
      " ['kucing21' 'kucing22' 'kucing23']]\n"
     ]
    }
   ],
   "source": [
    "# 2-D Array\n",
    "import numpy as np\n",
    "arr = np.array([['kucing11', 'kucing12', 'kucing13'],\n",
    "                ['kucing21', 'kucing22', 'kucing23']])\n",
    "print(arr)"
   ]
  },
  {
   "cell_type": "code",
   "execution_count": 16,
   "id": "b038f1ef",
   "metadata": {},
   "outputs": [
    {
     "name": "stdout",
     "output_type": "stream",
     "text": [
      "[[['kucing11' 'kucing12' 'kucing13']\n",
      "  ['kucing21' 'kucing22' 'kucing23']\n",
      "  ['kucing31' 'kucing32' 'kucing33']]]\n"
     ]
    }
   ],
   "source": [
    "# 3-D Array\n",
    "import numpy as np\n",
    "arr = np.array([[['kucing11', 'kucing12', 'kucing13'], \n",
    "                 ['kucing21', 'kucing22', 'kucing23'], \n",
    "                 ['kucing31', 'kucing32', 'kucing33']]])\n",
    "print(arr)"
   ]
  },
  {
   "cell_type": "markdown",
   "id": "bf3a27c5",
   "metadata": {},
   "source": [
    "#### Check How Many Dimensions the Arrays Have"
   ]
  },
  {
   "cell_type": "code",
   "execution_count": 17,
   "id": "a6a13871",
   "metadata": {},
   "outputs": [
    {
     "name": "stdout",
     "output_type": "stream",
     "text": [
      "0\n",
      "1\n",
      "2\n",
      "3\n"
     ]
    }
   ],
   "source": [
    "import numpy as np\n",
    "\n",
    "a = np.array(42)\n",
    "b = np.array([1,2,3,4,5])\n",
    "c = np.array([[1,2,3],[4,5,6]])\n",
    "d = np.array([[[1,2,3],[4,5,6]], [[1,2,3],[4,5,6]]])\n",
    "\n",
    "print(a.ndim)\n",
    "print(b.ndim)\n",
    "print(c.ndim)\n",
    "print(d.ndim)"
   ]
  },
  {
   "cell_type": "code",
   "execution_count": 18,
   "id": "7c31e5bd",
   "metadata": {},
   "outputs": [
    {
     "name": "stdout",
     "output_type": "stream",
     "text": [
      "[[[[[1 2 3 4]]]]]\n",
      "number of dimension: 5\n"
     ]
    }
   ],
   "source": [
    "#create an array with 5 dimensions and verify that it has 5 dimensions\n",
    "\n",
    "import numpy as np\n",
    "\n",
    "arr = np.array([1,2,3,4], ndmin=5)\n",
    "\n",
    "print(arr)\n",
    "print('number of dimension:', arr.ndim)"
   ]
  },
  {
   "cell_type": "markdown",
   "id": "d9dd2894",
   "metadata": {},
   "source": [
    "Task"
   ]
  },
  {
   "cell_type": "code",
   "execution_count": 21,
   "id": "a4359cc3",
   "metadata": {},
   "outputs": [
    {
     "name": "stdout",
     "output_type": "stream",
     "text": [
      "0\n",
      "1\n",
      "2\n",
      "3\n",
      "4\n",
      "5\n"
     ]
    }
   ],
   "source": [
    "import numpy as np\n",
    "\n",
    "z = np.array(0)\n",
    "a = np.array([1,1,1])\n",
    "b = np.array([[1,1,1],\n",
    "              [2,2,2]])\n",
    "c = np.array([[[1,1,1],\n",
    "               [2,2,2],\n",
    "               [3,3,3]]])\n",
    "d = np.array([[[[1,1,1],\n",
    "                [2,2,2],\n",
    "                [3,3,3],\n",
    "                [4,4,4]]]])\n",
    "e = np.array([[[[[1,1,1],\n",
    "                 [2,2,2],\n",
    "                 [3,3,3],\n",
    "                 [4,4,4],\n",
    "                 [5,5,5,]]]]])\n",
    "\n",
    "print(z.ndim)\n",
    "print(a.ndim)\n",
    "print(b.ndim)\n",
    "print(c.ndim)\n",
    "print(d.ndim)\n",
    "print(e.ndim)"
   ]
  },
  {
   "cell_type": "code",
   "execution_count": 22,
   "id": "849fd1bb",
   "metadata": {},
   "outputs": [
    {
     "name": "stdout",
     "output_type": "stream",
     "text": [
      "[[[[['kucing']]]]]\n",
      "number of dimension: 5\n"
     ]
    }
   ],
   "source": [
    "import numpy as np\n",
    "\n",
    "arr = np.array(['kucing'], ndmin=5)\n",
    "\n",
    "print(arr)\n",
    "print('number of dimension:', arr.ndim)"
   ]
  },
  {
   "cell_type": "markdown",
   "id": "f17e516f",
   "metadata": {},
   "source": [
    "#### Get the Element from Array"
   ]
  },
  {
   "cell_type": "code",
   "execution_count": 23,
   "id": "b2007e27",
   "metadata": {},
   "outputs": [
    {
     "name": "stdout",
     "output_type": "stream",
     "text": [
      "1\n"
     ]
    }
   ],
   "source": [
    "# Get the first element from the following array\n",
    "import numpy as np\n",
    "arr = np.array([1,2,3,4])\n",
    "print(arr[0])"
   ]
  },
  {
   "cell_type": "code",
   "execution_count": 24,
   "id": "a6aaa087",
   "metadata": {},
   "outputs": [
    {
     "name": "stdout",
     "output_type": "stream",
     "text": [
      "2\n"
     ]
    }
   ],
   "source": [
    "# Get the second element from the following array\n",
    "import numpy as np\n",
    "arr = np.array([1,2,3,4])\n",
    "print(arr[1])"
   ]
  },
  {
   "cell_type": "code",
   "execution_count": 27,
   "id": "161d1507",
   "metadata": {},
   "outputs": [
    {
     "name": "stdout",
     "output_type": "stream",
     "text": [
      "7\n"
     ]
    }
   ],
   "source": [
    "# Get the third and fourth element from the following array\n",
    "import numpy as np\n",
    "arr = np.array([1,2,3,4])\n",
    "print(arr[2]+arr[3])"
   ]
  },
  {
   "cell_type": "markdown",
   "id": "b5d2266e",
   "metadata": {},
   "source": [
    "Task"
   ]
  },
  {
   "cell_type": "code",
   "execution_count": 32,
   "id": "01ae43c1",
   "metadata": {},
   "outputs": [],
   "source": [
    "import numpy as np\n",
    "arr = np.array([1,2,3,4,5,6,7,8,9,10])"
   ]
  },
  {
   "cell_type": "code",
   "execution_count": 35,
   "id": "937cd8d1",
   "metadata": {},
   "outputs": [
    {
     "name": "stdout",
     "output_type": "stream",
     "text": [
      "[1 2 3]\n"
     ]
    }
   ],
   "source": [
    "# 2p\n",
    "print(arr[0:3])"
   ]
  },
  {
   "cell_type": "code",
   "execution_count": 38,
   "id": "987fb23b",
   "metadata": {},
   "outputs": [
    {
     "name": "stdout",
     "output_type": "stream",
     "text": [
      "[1 3 5 7]\n"
     ]
    }
   ],
   "source": [
    "# 3p\n",
    "print(arr[0:8:2])"
   ]
  },
  {
   "cell_type": "code",
   "execution_count": 39,
   "id": "aced6105",
   "metadata": {},
   "outputs": [
    {
     "name": "stdout",
     "output_type": "stream",
     "text": [
      "7\n"
     ]
    }
   ],
   "source": [
    "# operasi index\n",
    "print(arr[2] + arr[3])"
   ]
  },
  {
   "cell_type": "code",
   "execution_count": 37,
   "id": "01e5a91d",
   "metadata": {},
   "outputs": [
    {
     "name": "stdout",
     "output_type": "stream",
     "text": [
      "[3 5]\n"
     ]
    }
   ],
   "source": [
    "# operasi index\n",
    "print(arr[0:2] + arr[1:3])"
   ]
  },
  {
   "cell_type": "code",
   "execution_count": 40,
   "id": "9a44a804",
   "metadata": {},
   "outputs": [
    {
     "name": "stdout",
     "output_type": "stream",
     "text": [
      "3 dan 4\n"
     ]
    }
   ],
   "source": [
    "print( arr[2], 'dan', arr[3])"
   ]
  },
  {
   "cell_type": "markdown",
   "id": "923f2279",
   "metadata": {},
   "source": [
    "#### Access the Element Based on Row/Column"
   ]
  },
  {
   "cell_type": "code",
   "execution_count": 54,
   "id": "c0bd9b45",
   "metadata": {},
   "outputs": [
    {
     "name": "stdout",
     "output_type": "stream",
     "text": [
      "2nd element on 1st row:  2\n"
     ]
    }
   ],
   "source": [
    "# Access the element on the first row, second column\n",
    "import numpy as np\n",
    "arr = np.array([[1,2,3,4,5], \n",
    "                [6,7,8,9,10]])\n",
    "print('2nd element on 1st row: ', arr[0,1])"
   ]
  },
  {
   "cell_type": "code",
   "execution_count": 56,
   "id": "c3553574",
   "metadata": {},
   "outputs": [
    {
     "name": "stdout",
     "output_type": "stream",
     "text": [
      "3rd element on 2nd row:  8\n"
     ]
    }
   ],
   "source": [
    "# Access the element on the second row, third column\n",
    "import numpy as np\n",
    "arr = np.array([[1,2,3,4,5], \n",
    "                [6,7,8,9,10]])\n",
    "print('3rd element on 2nd row: ', arr[1,2])"
   ]
  },
  {
   "cell_type": "code",
   "execution_count": 57,
   "id": "d7d48c0c",
   "metadata": {},
   "outputs": [
    {
     "name": "stdout",
     "output_type": "stream",
     "text": [
      "5th element on 2nd row:  10\n"
     ]
    }
   ],
   "source": [
    "# Access the element on the 2nd row, 5th column\n",
    "import numpy as np\n",
    "arr = np.array([[1,2,3,4,5], \n",
    "                [6,7,8,9,10]])\n",
    "print('5th element on 2nd row: ', arr[1,4])"
   ]
  },
  {
   "cell_type": "code",
   "execution_count": 44,
   "id": "f828d593",
   "metadata": {},
   "outputs": [
    {
     "name": "stdout",
     "output_type": "stream",
     "text": [
      "6\n"
     ]
    }
   ],
   "source": [
    "# Access the third element of the second\n",
    "import numpy as np\n",
    "arr = np.array([[[1,2,3], [4,5,6], [7,8,9], [10,11,12]]])\n",
    "print(arr[0,1,2])"
   ]
  },
  {
   "cell_type": "code",
   "execution_count": 51,
   "id": "af4b53c8",
   "metadata": {},
   "outputs": [
    {
     "name": "stdout",
     "output_type": "stream",
     "text": [
      "9\n"
     ]
    }
   ],
   "source": [
    "import numpy as np\n",
    "arr = np.array([[[1,2,3], [4,5,6]], [[7,8,9], [10,11,12]]])\n",
    "print(arr[1,0,2])"
   ]
  },
  {
   "cell_type": "markdown",
   "id": "ce70bafb",
   "metadata": {},
   "source": [
    "Task"
   ]
  },
  {
   "cell_type": "code",
   "execution_count": 100,
   "id": "71836cf0",
   "metadata": {},
   "outputs": [],
   "source": [
    "import numpy as np\n",
    "arr = np.array([[[1,2,3,4,5], \n",
    "                 ['enam', 'tujuh', 'delapan','sembilan','sepuluh'],\n",
    "                 [11,12,13,14,15]]])"
   ]
  },
  {
   "cell_type": "code",
   "execution_count": 101,
   "id": "3513887b",
   "metadata": {},
   "outputs": [
    {
     "name": "stdout",
     "output_type": "stream",
     "text": [
      "elements on 1st row:  [['1' '2' '3' '4' '5']\n",
      " ['enam' 'tujuh' 'delapan' 'sembilan' 'sepuluh']\n",
      " ['11' '12' '13' '14' '15']]\n"
     ]
    }
   ],
   "source": [
    "# 1p\n",
    "print('elements on 1st row: ', arr[0])"
   ]
  },
  {
   "cell_type": "code",
   "execution_count": 102,
   "id": "ea3af0fe",
   "metadata": {},
   "outputs": [
    {
     "name": "stdout",
     "output_type": "stream",
     "text": [
      "3rd element on 1st row:  [[['1' '2' '3' '4' '5']\n",
      "  ['enam' 'tujuh' 'delapan' 'sembilan' 'sepuluh']\n",
      "  ['11' '12' '13' '14' '15']]]\n"
     ]
    }
   ],
   "source": [
    "# 2p\n",
    "print('3rd element on 1st row: ', arr[0:2])"
   ]
  },
  {
   "cell_type": "code",
   "execution_count": 103,
   "id": "d847e8d6",
   "metadata": {},
   "outputs": [
    {
     "name": "stdout",
     "output_type": "stream",
     "text": [
      " 2nd element on the 1st row, 3th column:  12\n"
     ]
    }
   ],
   "source": [
    "# 3p\n",
    "print(' 2nd element on the 1st row, 3th column: ', arr[0,2,1])"
   ]
  },
  {
   "cell_type": "markdown",
   "id": "2681644c",
   "metadata": {},
   "source": [
    "Print the last element from the 2nd dim"
   ]
  },
  {
   "cell_type": "code",
   "execution_count": 81,
   "id": "642fbdc7",
   "metadata": {},
   "outputs": [
    {
     "name": "stdout",
     "output_type": "stream",
     "text": [
      "last elements from 2nd dim:  10\n"
     ]
    }
   ],
   "source": [
    "import numpy as np\n",
    "arr = np.array([[1,2,3,4,5], \n",
    "                [6,7,8,9,10]])\n",
    "print('last elements from 2nd dim: ', arr[1,-1])"
   ]
  },
  {
   "cell_type": "markdown",
   "id": "8ac7326e",
   "metadata": {},
   "source": [
    "#### Slice Elements from Index from the Following Array"
   ]
  },
  {
   "cell_type": "code",
   "execution_count": 83,
   "id": "b9ab0f85",
   "metadata": {},
   "outputs": [
    {
     "name": "stdout",
     "output_type": "stream",
     "text": [
      "[2 3 4 5]\n"
     ]
    }
   ],
   "source": [
    "# Slice elements from index 5 from the following array\n",
    "import numpy as np\n",
    "arr = np.array([1,2,3,4,5,6,7])\n",
    "print(arr[1:5])"
   ]
  },
  {
   "cell_type": "code",
   "execution_count": 104,
   "id": "2125279b",
   "metadata": {},
   "outputs": [
    {
     "name": "stdout",
     "output_type": "stream",
     "text": [
      "[5 6 7]\n"
     ]
    }
   ],
   "source": [
    "# Slice elements from index 4 to thr end of the array\n",
    "import numpy as np\n",
    "arr = np.array([1,2,3,4,5,6,7])\n",
    "print(arr[4:])"
   ]
  },
  {
   "cell_type": "code",
   "execution_count": 105,
   "id": "c3106c66",
   "metadata": {},
   "outputs": [
    {
     "name": "stdout",
     "output_type": "stream",
     "text": [
      "[1 2 3 4]\n"
     ]
    }
   ],
   "source": [
    "# Slice elements from the beginning to index 4 (not included)\n",
    "import numpy as np\n",
    "arr = np.array([1,2,3,4,5,6,7])\n",
    "print(arr[:4])"
   ]
  },
  {
   "cell_type": "code",
   "execution_count": 106,
   "id": "c221df25",
   "metadata": {},
   "outputs": [
    {
     "name": "stdout",
     "output_type": "stream",
     "text": [
      "[5 6]\n"
     ]
    }
   ],
   "source": [
    "# Slice elements from the index 3 to index 1 from the end\n",
    "import numpy as np\n",
    "arr = np.array([1,2,3,4,5,6,7])\n",
    "print(arr[-3:-1])"
   ]
  },
  {
   "cell_type": "markdown",
   "id": "5852e9fc",
   "metadata": {},
   "source": [
    "Task"
   ]
  },
  {
   "cell_type": "markdown",
   "id": "02cc866e",
   "metadata": {},
   "source": [
    "#### Use the Step Value to Determine the Step of the Slicing"
   ]
  },
  {
   "cell_type": "code",
   "execution_count": 91,
   "id": "1f807c1c",
   "metadata": {},
   "outputs": [
    {
     "name": "stdout",
     "output_type": "stream",
     "text": [
      "[7 8 9]\n"
     ]
    }
   ],
   "source": [
    "#\n",
    "arr = np.array([[1,2,3,4,5],[6,7,8,9,10]])\n",
    "print(arr[1, 1:4])"
   ]
  },
  {
   "cell_type": "code",
   "execution_count": 92,
   "id": "e217aa34",
   "metadata": {},
   "outputs": [
    {
     "name": "stdout",
     "output_type": "stream",
     "text": [
      "[3 8]\n"
     ]
    }
   ],
   "source": [
    "#from both element, return index 2\n",
    "arr = np.array([[1,2,3,4,5],[6,7,8,9,10]])\n",
    "print(arr[0:2, 2])"
   ]
  },
  {
   "cell_type": "code",
   "execution_count": 107,
   "id": "fd9118dc",
   "metadata": {},
   "outputs": [
    {
     "name": "stdout",
     "output_type": "stream",
     "text": [
      "[[2 3 4]\n",
      " [7 8 9]]\n"
     ]
    }
   ],
   "source": [
    "#from both element, slice index 1 to index 4 (not included), this will return a 2-d array\n",
    "arr = np.array([[1,2,3,4,5],[6,7,8,9,10]])\n",
    "print(arr[0:2, 1:4])"
   ]
  },
  {
   "cell_type": "markdown",
   "id": "dc33fddc",
   "metadata": {},
   "source": [
    "Task"
   ]
  },
  {
   "cell_type": "code",
   "execution_count": 108,
   "id": "e8f74dcb",
   "metadata": {},
   "outputs": [
    {
     "name": "stdout",
     "output_type": "stream",
     "text": [
      "[[['kucing11' 'kucing12' 'kucing13']\n",
      "  ['kucing21' 'kucing22' 'kucing23']\n",
      "  ['kucing31' 'kucing32' 'kucing33']]]\n"
     ]
    }
   ],
   "source": [
    "import numpy as np\n",
    "arr = np.array([[['kucing11', 'kucing12', 'kucing13'], \n",
    "                 ['kucing21', 'kucing22', 'kucing23'], \n",
    "                 ['kucing31', 'kucing32', 'kucing33']]])\n",
    "print(arr)"
   ]
  },
  {
   "cell_type": "code",
   "execution_count": 116,
   "id": "4b565858",
   "metadata": {},
   "outputs": [
    {
     "name": "stdout",
     "output_type": "stream",
     "text": [
      "[['kucing11' 'kucing12' 'kucing13']\n",
      " ['kucing21' 'kucing22' 'kucing23']]\n"
     ]
    }
   ],
   "source": [
    "# 1p, 2p\n",
    "print(arr[0, 0:2])"
   ]
  },
  {
   "cell_type": "code",
   "execution_count": 118,
   "id": "13eb2ab6",
   "metadata": {},
   "outputs": [
    {
     "name": "stdout",
     "output_type": "stream",
     "text": [
      "[['kucing21' 'kucing22' 'kucing23']]\n"
     ]
    }
   ],
   "source": [
    "# 2p, 1p\n",
    "print(arr[0:2, 1])"
   ]
  },
  {
   "cell_type": "code",
   "execution_count": 113,
   "id": "8c7287fd",
   "metadata": {},
   "outputs": [
    {
     "name": "stdout",
     "output_type": "stream",
     "text": [
      "[[['kucing21' 'kucing22' 'kucing23']\n",
      "  ['kucing31' 'kucing32' 'kucing33']]]\n"
     ]
    }
   ],
   "source": [
    "# 2p, 2p\n",
    "print(arr[0:2, 1:3])"
   ]
  },
  {
   "cell_type": "markdown",
   "id": "d39d437e",
   "metadata": {},
   "source": [
    "#### Get Data of the Object"
   ]
  },
  {
   "cell_type": "code",
   "execution_count": 96,
   "id": "50f8cc67",
   "metadata": {},
   "outputs": [
    {
     "name": "stdout",
     "output_type": "stream",
     "text": [
      "int32\n"
     ]
    }
   ],
   "source": [
    "arr = np.array([1,2,3,4])\n",
    "print(arr.dtype)"
   ]
  },
  {
   "cell_type": "code",
   "execution_count": 97,
   "id": "45201e88",
   "metadata": {},
   "outputs": [],
   "source": [
    "#### Change data type from float to integer by using 'i' as parameter value\n"
   ]
  },
  {
   "cell_type": "code",
   "execution_count": null,
   "id": "8b30f68f",
   "metadata": {},
   "outputs": [],
   "source": [
    "import numpy as np\n",
    "arr = np.array([1.1, 2.1, 3.1])"
   ]
  }
 ],
 "metadata": {
  "kernelspec": {
   "display_name": "Python 3",
   "language": "python",
   "name": "python3"
  },
  "language_info": {
   "codemirror_mode": {
    "name": "ipython",
    "version": 3
   },
   "file_extension": ".py",
   "mimetype": "text/x-python",
   "name": "python",
   "nbconvert_exporter": "python",
   "pygments_lexer": "ipython3",
   "version": "3.8.8"
  }
 },
 "nbformat": 4,
 "nbformat_minor": 5
}

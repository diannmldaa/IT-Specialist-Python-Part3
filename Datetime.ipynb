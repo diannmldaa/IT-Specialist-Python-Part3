{
 "cells": [
  {
   "cell_type": "markdown",
   "id": "f838fe0d",
   "metadata": {},
   "source": [
    "#### Datetime"
   ]
  },
  {
   "cell_type": "code",
   "execution_count": 1,
   "id": "d36034ec",
   "metadata": {},
   "outputs": [],
   "source": [
    "import datetime"
   ]
  },
  {
   "cell_type": "code",
   "execution_count": 3,
   "id": "261c8a9e",
   "metadata": {},
   "outputs": [
    {
     "data": {
      "text/plain": [
       "datetime.datetime(2022, 10, 8, 7, 51, 47, 943852)"
      ]
     },
     "execution_count": 3,
     "metadata": {},
     "output_type": "execute_result"
    }
   ],
   "source": [
    "#waktu sekarang\n",
    "\n",
    "todayWithTime = datetime.datetime.today()\n",
    "todayWithTime"
   ]
  },
  {
   "cell_type": "code",
   "execution_count": 4,
   "id": "6ef4942b",
   "metadata": {},
   "outputs": [
    {
     "data": {
      "text/plain": [
       "datetime.date(2022, 10, 8)"
      ]
     },
     "execution_count": 4,
     "metadata": {},
     "output_type": "execute_result"
    }
   ],
   "source": [
    "#waktu sekarang (hanya tanggal)\n",
    "\n",
    "todayWithoutTime = datetime.date.today()\n",
    "todayWithoutTime"
   ]
  },
  {
   "cell_type": "code",
   "execution_count": 7,
   "id": "ba2898b5",
   "metadata": {},
   "outputs": [
    {
     "data": {
      "text/plain": [
       "'07: 51: 47'"
      ]
     },
     "execution_count": 7,
     "metadata": {},
     "output_type": "execute_result"
    }
   ],
   "source": [
    "#waktu sekarang menggunakan formatting\n",
    "\n",
    "formatting_time = datetime.datetime.strftime(todayWithTime, '%H: %M: %S' )\n",
    "formatting_time"
   ]
  },
  {
   "cell_type": "code",
   "execution_count": 8,
   "id": "4c066351",
   "metadata": {},
   "outputs": [
    {
     "data": {
      "text/plain": [
       "'10/08/2022'"
      ]
     },
     "execution_count": 8,
     "metadata": {},
     "output_type": "execute_result"
    }
   ],
   "source": [
    "#waktu sekarang (hanya tanggal) menggunakan formatting\n",
    "\n",
    "formatting_date = datetime.datetime.strftime(todayWithTime, '%m/%d/%Y' )\n",
    "formatting_date"
   ]
  },
  {
   "cell_type": "markdown",
   "id": "30cac639",
   "metadata": {},
   "source": [
    "Task"
   ]
  },
  {
   "cell_type": "code",
   "execution_count": 10,
   "id": "d39679b4",
   "metadata": {},
   "outputs": [
    {
     "data": {
      "text/plain": [
       "'08-10-2022'"
      ]
     },
     "execution_count": 10,
     "metadata": {},
     "output_type": "execute_result"
    }
   ],
   "source": [
    "formatting_date2 = datetime.datetime.strftime(todayWithTime, '%d-%m-%Y' )\n",
    "formatting_date2"
   ]
  },
  {
   "cell_type": "code",
   "execution_count": 13,
   "id": "59f41610",
   "metadata": {},
   "outputs": [
    {
     "data": {
      "text/plain": [
       "'October'"
      ]
     },
     "execution_count": 13,
     "metadata": {},
     "output_type": "execute_result"
    }
   ],
   "source": [
    "month = datetime.datetime.strftime(todayWithTime, '%B' )\n",
    "month"
   ]
  },
  {
   "cell_type": "code",
   "execution_count": 14,
   "id": "73fed671",
   "metadata": {},
   "outputs": [
    {
     "data": {
      "text/plain": [
       "'Saturday'"
      ]
     },
     "execution_count": 14,
     "metadata": {},
     "output_type": "execute_result"
    }
   ],
   "source": [
    "day = datetime.datetime.strftime(todayWithTime, '%A' )\n",
    "day"
   ]
  },
  {
   "cell_type": "code",
   "execution_count": null,
   "id": "63dbe5c5",
   "metadata": {},
   "outputs": [],
   "source": []
  }
 ],
 "metadata": {
  "kernelspec": {
   "display_name": "Python 3",
   "language": "python",
   "name": "python3"
  },
  "language_info": {
   "codemirror_mode": {
    "name": "ipython",
    "version": 3
   },
   "file_extension": ".py",
   "mimetype": "text/x-python",
   "name": "python",
   "nbconvert_exporter": "python",
   "pygments_lexer": "ipython3",
   "version": "3.8.8"
  }
 },
 "nbformat": 4,
 "nbformat_minor": 5
}

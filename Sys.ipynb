{
 "cells": [
  {
   "cell_type": "markdown",
   "id": "dfbc33b0",
   "metadata": {},
   "source": [
    "#### sys"
   ]
  },
  {
   "cell_type": "markdown",
   "id": "4f76b9ac",
   "metadata": {},
   "source": [
    "https://docs.python.org/3/library/sys.html"
   ]
  },
  {
   "cell_type": "code",
   "execution_count": 3,
   "id": "116a42be",
   "metadata": {},
   "outputs": [
    {
     "name": "stdout",
     "output_type": "stream",
     "text": [
      "Enter a number1\n",
      "Enter a number to divide by0\n",
      "<class 'ZeroDivisionError'>\n",
      "This did not work. Did you try to divide by zero or something?\n",
      "Thank you for playing\n"
     ]
    }
   ],
   "source": [
    "import sys\n",
    "\n",
    "a = float(input(\"Enter a number\"))\n",
    "b = float(input(\"Enter a number to divide by\"))\n",
    "\n",
    "try:\n",
    "    print(f\"The answer is {a/b}\")\n",
    "except:\n",
    "    print(sys.exc_info()[0])\n",
    "    print(\"This did not work. Did you try to divide by zero or something?\")\n",
    "else:\n",
    "    print(\"You successfully used the division feature in Python\")\n",
    "finally:\n",
    "    print(\"Thank you for playing\")"
   ]
  },
  {
   "cell_type": "markdown",
   "id": "fcf80552",
   "metadata": {},
   "source": [
    "Task"
   ]
  },
  {
   "cell_type": "code",
   "execution_count": 14,
   "id": "1e067e97",
   "metadata": {},
   "outputs": [
    {
     "name": "stdout",
     "output_type": "stream",
     "text": [
      "Enter a number1\n",
      "Enter a number to multiplys\n",
      "<class 'ValueError'>\n",
      "This did not work. Did you enter anything other than a number?\n",
      "Thank you for playing\n"
     ]
    }
   ],
   "source": [
    "import sys\n",
    "\n",
    "try:\n",
    "    a = float(input(\"Enter a number\"))\n",
    "    b = float(input(\"Enter a number to multiply\"))\n",
    "    print(f\"The answer is {a*b}\")\n",
    "except:\n",
    "    print(sys.exc_info()[0])\n",
    "    print(\"This did not work. Did you enter anything other than a number?\")\n",
    "else:\n",
    "    print(\"You successfully used this feature in Python\")\n",
    "finally:\n",
    "    print(\"Thank you for playing\")"
   ]
  },
  {
   "cell_type": "code",
   "execution_count": null,
   "id": "4b6547a6",
   "metadata": {},
   "outputs": [],
   "source": []
  }
 ],
 "metadata": {
  "kernelspec": {
   "display_name": "Python 3",
   "language": "python",
   "name": "python3"
  },
  "language_info": {
   "codemirror_mode": {
    "name": "ipython",
    "version": 3
   },
   "file_extension": ".py",
   "mimetype": "text/x-python",
   "name": "python",
   "nbconvert_exporter": "python",
   "pygments_lexer": "ipython3",
   "version": "3.8.8"
  }
 },
 "nbformat": 4,
 "nbformat_minor": 5
}

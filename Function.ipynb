{
 "cells": [
  {
   "cell_type": "markdown",
   "id": "56374fdd",
   "metadata": {},
   "source": [
    "### Fungsi"
   ]
  },
  {
   "cell_type": "markdown",
   "id": "6e35097a",
   "metadata": {},
   "source": [
    "- Di matematika, fungsi adalah proses yang merelasikan antara sebuah masukan (input) dan keluaran (output) \n",
    "- Pada Python, selain fungsi relasi tersebut, fungsi juga adalah salah satu cara untuk mengorganisasikan kode - dengan tujuan akhir kode dapat digunakan kembali (reusability).\n",
    "- Sebaiknya fungsi hanya memiliki satu kegunaan spesifik namun dapat digunakan kembali.\n",
    "- Fungsi-fungsi umum telah disediakan oleh Python.\n",
    "- Namun kita dapat selalu mendefinisikan fungsi kita sendiri."
   ]
  },
  {
   "cell_type": "markdown",
   "id": "2deab883",
   "metadata": {},
   "source": [
    "#### Mendefinisikan fungsi:\n",
    "- Fungsi didefinisikan dengan keyword def diikuti dengan nama fungsi dan parameternya dalam kurung ()\n",
    "- Secara opsional, Anda dapat menambahkan docstring-string dokumentasi yang menjelaskan konteks fungsi. \n",
    "- Blok kode dalam setiap fungsi dimulai dengan titik dua dan menggunakan indentasi.\n",
    "- Fungsi berhenti ketika terdapat statement return (expression) yang mengembalikan (expression] kepada pemanggilnya.\n",
    "- Anda juga bisa membuat fungsi tidak mengembalikan keluaran dengan return None."
   ]
  },
  {
   "cell_type": "code",
   "execution_count": 3,
   "id": "08f55023",
   "metadata": {},
   "outputs": [],
   "source": [
    "def pangkat(x):\n",
    "    kuadrat = x**2 \n",
    "    return kuadrat"
   ]
  },
  {
   "cell_type": "code",
   "execution_count": 4,
   "id": "d2bf53f5",
   "metadata": {},
   "outputs": [
    {
     "data": {
      "text/plain": [
       "9"
      ]
     },
     "execution_count": 4,
     "metadata": {},
     "output_type": "execute_result"
    }
   ],
   "source": [
    "pangkat(3)"
   ]
  },
  {
   "cell_type": "code",
   "execution_count": 16,
   "id": "df34d59d",
   "metadata": {},
   "outputs": [],
   "source": [
    "def pangkat(x,y):\n",
    "    kuadrat = x**2 #fungsi  pangkat 2\n",
    "    tambah = kuadrat + y\n",
    "    return tambah"
   ]
  },
  {
   "cell_type": "code",
   "execution_count": 17,
   "id": "42e74531",
   "metadata": {},
   "outputs": [
    {
     "data": {
      "text/plain": [
       "7"
      ]
     },
     "execution_count": 17,
     "metadata": {},
     "output_type": "execute_result"
    }
   ],
   "source": [
    "pangkat(2,3)"
   ]
  },
  {
   "cell_type": "markdown",
   "id": "678cd9fa",
   "metadata": {},
   "source": [
    "Task"
   ]
  },
  {
   "cell_type": "code",
   "execution_count": 31,
   "id": "4371ddd0",
   "metadata": {},
   "outputs": [
    {
     "data": {
      "text/plain": [
       "(7, 3)"
      ]
     },
     "execution_count": 31,
     "metadata": {},
     "output_type": "execute_result"
    }
   ],
   "source": [
    "def kalkulator(a,b):\n",
    "    tambah = a+b\n",
    "    kurang = a-b\n",
    "    modulo = a%b\n",
    "    kali = a*b\n",
    "    bagi = a/b\n",
    "    return tambah, kurang\n",
    "\n",
    "kalkulator(5,2)"
   ]
  },
  {
   "cell_type": "code",
   "execution_count": null,
   "id": "3d0740a9",
   "metadata": {},
   "outputs": [],
   "source": [
    "def kalkulator(a,b):\n",
    "    tambah = a+b\n",
    "    kurang = a-b\n",
    "    modulo = a%b\n",
    "    kali = a*b\n",
    "    bagi = a/b\n",
    "    return tambah, kurang\n",
    "\n",
    "kalkulator(5,2)"
   ]
  },
  {
   "cell_type": "markdown",
   "id": "9cdbc9ab",
   "metadata": {},
   "source": [
    "Secara default, Python akan memposisikan setiap parameter sesuai dengan urutan pendaftaran pada saat didefinisikan, dan harus dipanggil sesuai dengan urutan tersebut."
   ]
  },
  {
   "cell_type": "code",
   "execution_count": 32,
   "id": "f16054d4",
   "metadata": {},
   "outputs": [],
   "source": [
    "def nama(x):\n",
    "    halo = 'Hai {}'.format(x)\n",
    "    return halo"
   ]
  },
  {
   "cell_type": "code",
   "execution_count": 33,
   "id": "548874f9",
   "metadata": {},
   "outputs": [
    {
     "data": {
      "text/plain": [
       "'Hai Dian'"
      ]
     },
     "execution_count": 33,
     "metadata": {},
     "output_type": "execute_result"
    }
   ],
   "source": [
    "nama('Dian')"
   ]
  },
  {
   "cell_type": "markdown",
   "id": "3f65f869",
   "metadata": {},
   "source": [
    "#### Return"
   ]
  },
  {
   "cell_type": "markdown",
   "id": "650c0d13",
   "metadata": {},
   "source": [
    "Pernyataan return [expression] akan membuat eksekusi program keluar dari fungsi saat itu, sekaligus mengembalikan nilai tertentu."
   ]
  },
  {
   "cell_type": "code",
   "execution_count": 35,
   "id": "75960eb6",
   "metadata": {},
   "outputs": [
    {
     "name": "stdout",
     "output_type": "stream",
     "text": [
      "Hasil penjumlahan adalah 5\n"
     ]
    },
    {
     "data": {
      "text/plain": [
       "5"
      ]
     },
     "execution_count": 35,
     "metadata": {},
     "output_type": "execute_result"
    }
   ],
   "source": [
    "def tambah(x,y):\n",
    "    plus = x+y\n",
    "    print('Hasil penjumlahan adalah {}'.format(plus))\n",
    "    return plus\n",
    "\n",
    "tambah(2,3)"
   ]
  },
  {
   "cell_type": "code",
   "execution_count": 36,
   "id": "e529cd8d",
   "metadata": {},
   "outputs": [
    {
     "name": "stdout",
     "output_type": "stream",
     "text": [
      "Hasil penjumlahan adalah 5\n",
      "Hasil dari return adalah 5\n"
     ]
    }
   ],
   "source": [
    "output = tambah(2,3)\n",
    "print('Hasil dari return adalah {}'.format(output))"
   ]
  },
  {
   "cell_type": "markdown",
   "id": "a950124c",
   "metadata": {},
   "source": [
    "Task"
   ]
  },
  {
   "cell_type": "code",
   "execution_count": 56,
   "id": "77bbb93c",
   "metadata": {},
   "outputs": [
    {
     "data": {
      "text/plain": [
       "'Selamat pagi, Dian!'"
      ]
     },
     "execution_count": 56,
     "metadata": {},
     "output_type": "execute_result"
    }
   ],
   "source": [
    "def menyapa(waktu,nama):\n",
    "    sapaan = 'Selamat {}, {}!'.format(waktu, nama)\n",
    "    return sapaan\n",
    "\n",
    "menyapa('pagi', 'Dian')"
   ]
  },
  {
   "cell_type": "code",
   "execution_count": 57,
   "id": "6ac5aa2c",
   "metadata": {},
   "outputs": [
    {
     "name": "stdout",
     "output_type": "stream",
     "text": [
      "Hasil penambahan antara 5 dan 2 adalah 7\n"
     ]
    }
   ],
   "source": [
    "def tambah(a,b):\n",
    "    tambah = a+b\n",
    "    print('Hasil penambahan antara {} dan {} adalah {}'.format(a,b,tambah))\n",
    "\n",
    "tambah(5,2)"
   ]
  },
  {
   "cell_type": "markdown",
   "id": "9e47951c",
   "metadata": {},
   "source": [
    "- Nilai kembalian dari sebuah fungsi dapat disimpan dalam sebuah variabel\n",
    "- Ini yang akan membedakan sebuah fungsi yang mengembalikan nilai dengan sebuah fungsi yang tidak mengembalikan nilai (sering disebut dengan prosedur)"
   ]
  },
  {
   "cell_type": "code",
   "execution_count": 10,
   "id": "51909298",
   "metadata": {},
   "outputs": [],
   "source": [
    "def pangkat(x):\n",
    "    kuadrat = x**2\n",
    "    return kuadrat"
   ]
  },
  {
   "cell_type": "code",
   "execution_count": 11,
   "id": "cc9d9f7a",
   "metadata": {},
   "outputs": [
    {
     "name": "stdout",
     "output_type": "stream",
     "text": [
      "4\n",
      "Hasilnya adalah 16\n"
     ]
    }
   ],
   "source": [
    "angka = int(input().rstrip())\n",
    "hasil = pangkat(angka)\n",
    "print('Hasilnya adalah {}'.format(hasil))"
   ]
  },
  {
   "cell_type": "code",
   "execution_count": 13,
   "id": "ebf31706",
   "metadata": {},
   "outputs": [
    {
     "name": "stdout",
     "output_type": "stream",
     "text": [
      "Hasil kuadrat dari 4 adalah 16\n"
     ]
    }
   ],
   "source": [
    "print('Hasil kuadrat dari {} adalah {}'.format(angka, hasil))"
   ]
  },
  {
   "cell_type": "markdown",
   "id": "5c7d6d71",
   "metadata": {},
   "source": [
    "Task"
   ]
  },
  {
   "cell_type": "code",
   "execution_count": 59,
   "id": "9252aa57",
   "metadata": {},
   "outputs": [
    {
     "name": "stdout",
     "output_type": "stream",
     "text": [
      "Hasil penambahan antara 5 dan 2 adalah 7\n"
     ]
    }
   ],
   "source": [
    "def tambah(a,b):\n",
    "    tambah = a+b\n",
    "    print('Hasil penambahan antara {} dan {} adalah {}'.format(a,b,tambah))\n",
    "\n",
    "tambah(5,2)"
   ]
  },
  {
   "cell_type": "code",
   "execution_count": null,
   "id": "f80a0eff",
   "metadata": {},
   "outputs": [],
   "source": []
  }
 ],
 "metadata": {
  "kernelspec": {
   "display_name": "Python 3",
   "language": "python",
   "name": "python3"
  },
  "language_info": {
   "codemirror_mode": {
    "name": "ipython",
    "version": 3
   },
   "file_extension": ".py",
   "mimetype": "text/x-python",
   "name": "python",
   "nbconvert_exporter": "python",
   "pygments_lexer": "ipython3",
   "version": "3.8.8"
  }
 },
 "nbformat": 4,
 "nbformat_minor": 5
}

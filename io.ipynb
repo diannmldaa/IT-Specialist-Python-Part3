{
 "cells": [
  {
   "cell_type": "markdown",
   "id": "fac5a59b",
   "metadata": {},
   "source": [
    "#### io"
   ]
  },
  {
   "cell_type": "code",
   "execution_count": 1,
   "id": "53d5454a",
   "metadata": {},
   "outputs": [
    {
     "name": "stdout",
     "output_type": "stream",
     "text": [
      "what do you want to write to the log?nothing\n"
     ]
    }
   ],
   "source": [
    "with open('log.txt', 'w') as writeFile: \n",
    "    toLog = input(\"what do you want to write to the log?\") \n",
    "    writeFile.write(toLog)"
   ]
  },
  {
   "cell_type": "markdown",
   "id": "17cdd926",
   "metadata": {},
   "source": [
    "Task"
   ]
  },
  {
   "cell_type": "code",
   "execution_count": 2,
   "id": "69cf0edd",
   "metadata": {},
   "outputs": [
    {
     "name": "stdout",
     "output_type": "stream",
     "text": [
      "Masukkan modul yang ingin ditulis:Algebra\n"
     ]
    }
   ],
   "source": [
    "with open('math.txt', 'w') as writeFile: \n",
    "    inputan = input(\"Masukkan modul yang ingin ditulis:\") \n",
    "    writeFile.write(inputan)"
   ]
  },
  {
   "cell_type": "code",
   "execution_count": null,
   "id": "6d806ea6",
   "metadata": {},
   "outputs": [],
   "source": []
  }
 ],
 "metadata": {
  "kernelspec": {
   "display_name": "Python 3",
   "language": "python",
   "name": "python3"
  },
  "language_info": {
   "codemirror_mode": {
    "name": "ipython",
    "version": 3
   },
   "file_extension": ".py",
   "mimetype": "text/x-python",
   "name": "python",
   "nbconvert_exporter": "python",
   "pygments_lexer": "ipython3",
   "version": "3.8.8"
  }
 },
 "nbformat": 4,
 "nbformat_minor": 5
}

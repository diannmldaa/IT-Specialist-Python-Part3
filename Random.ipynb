{
 "cells": [
  {
   "cell_type": "markdown",
   "id": "937c00b2",
   "metadata": {},
   "source": [
    "#### Random"
   ]
  },
  {
   "cell_type": "markdown",
   "id": "6089f6d0",
   "metadata": {},
   "source": [
    "https://docs.python.org/3/library/random.html"
   ]
  },
  {
   "cell_type": "code",
   "execution_count": 7,
   "id": "c611da3d",
   "metadata": {},
   "outputs": [
    {
     "name": "stdout",
     "output_type": "stream",
     "text": [
      "Random num 0 is 1\n",
      "Random num 1 is 9\n",
      "Random num 2 is 2\n",
      "Random num 3 is 3\n",
      "Random num 4 is 9\n",
      "Random num 5 is 8\n",
      "Random num 6 is 8\n",
      "Random num 7 is 7\n",
      "Random num 8 is 2\n",
      "Random num 9 is 8\n"
     ]
    }
   ],
   "source": [
    "from random import randint\n",
    "\n",
    "for i in range(10): \n",
    "    print(f\"Random num {i} is {randint(1,10)}\")"
   ]
  },
  {
   "cell_type": "markdown",
   "id": "3e047810",
   "metadata": {},
   "source": [
    "Task"
   ]
  },
  {
   "cell_type": "code",
   "execution_count": 21,
   "id": "c698d216",
   "metadata": {},
   "outputs": [
    {
     "name": "stdout",
     "output_type": "stream",
     "text": [
      "Random num 0 is 16\n",
      "Random num 1 is 16\n",
      "Random num 2 is 6\n",
      "Random num 3 is 14\n",
      "Random num 4 is 4\n",
      "Random num 5 is 4\n",
      "Random num 6 is 12\n",
      "Random num 7 is 12\n",
      "Random num 8 is 18\n",
      "Random num 9 is 6\n"
     ]
    }
   ],
   "source": [
    "from random import randrange\n",
    "\n",
    "for i in range(10): \n",
    "    print(f\"Random num {i} is {randrange(2,20,2)}\")"
   ]
  },
  {
   "cell_type": "code",
   "execution_count": null,
   "id": "250bacaa",
   "metadata": {},
   "outputs": [],
   "source": []
  }
 ],
 "metadata": {
  "kernelspec": {
   "display_name": "Python 3",
   "language": "python",
   "name": "python3"
  },
  "language_info": {
   "codemirror_mode": {
    "name": "ipython",
    "version": 3
   },
   "file_extension": ".py",
   "mimetype": "text/x-python",
   "name": "python",
   "nbconvert_exporter": "python",
   "pygments_lexer": "ipython3",
   "version": "3.8.8"
  }
 },
 "nbformat": 4,
 "nbformat_minor": 5
}

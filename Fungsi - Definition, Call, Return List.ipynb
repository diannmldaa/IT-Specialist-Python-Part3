{
 "cells": [
  {
   "cell_type": "markdown",
   "id": "4e8db9e1",
   "metadata": {},
   "source": [
    "#### Pass by Reference vs Value\n",
    "\n",
    "- Seluruh parameter (argumen) pada bahasa Python bersifat \"passed by reference\". Artinya saat kita mengubah sebuah variabel, maka data yang mereferensi padanya juga akan berubah, baik dalam fungsi, maupun di luar fungsi pemangil.\n",
    "- Kecuali jika kita melakukan operasi assigment yang akan mengubah reference parameter."
   ]
  },
  {
   "cell_type": "code",
   "execution_count": 1,
   "id": "23ebcb22",
   "metadata": {},
   "outputs": [],
   "source": [
    "def rubah(daftar_list):\n",
    "    daftar_list.append([3,4]) \n",
    "    print(\"Nilai dalam fungsi adalah {}\".format(daftar_list))"
   ]
  },
  {
   "cell_type": "code",
   "execution_count": 2,
   "id": "2ad9f1c6",
   "metadata": {},
   "outputs": [
    {
     "name": "stdout",
     "output_type": "stream",
     "text": [
      "Nilai dalam fungsi adalah [10, [3, 4]]\n"
     ]
    }
   ],
   "source": [
    "# tambahan\n",
    "rubah([10])"
   ]
  },
  {
   "cell_type": "code",
   "execution_count": 3,
   "id": "2c23788f",
   "metadata": {},
   "outputs": [
    {
     "name": "stdout",
     "output_type": "stream",
     "text": [
      "Nilai dalam fungsi adalah [10, [3, 4]]\n",
      "Nilai di luar fungsi adalah [10, [3, 4]]\n"
     ]
    }
   ],
   "source": [
    "daftar_list = [10] \n",
    "rubah (daftar_list)\n",
    "print(\"Nilai di luar fungsi adalah {}\".format(daftar_list))"
   ]
  },
  {
   "cell_type": "code",
   "execution_count": 4,
   "id": "12460bcc",
   "metadata": {},
   "outputs": [
    {
     "name": "stdout",
     "output_type": "stream",
     "text": [
      "Nilai dalam fungsi adalah [5, 6, [3, 4]]\n",
      "Nilai di luar fungsi adalah [5, 6, [3, 4]]\n"
     ]
    }
   ],
   "source": [
    "daftar_list = [5,6] \n",
    "rubah (daftar_list)\n",
    "print(\"Nilai di luar fungsi adalah {}\".format(daftar_list))"
   ]
  },
  {
   "cell_type": "markdown",
   "id": "d7b92f9a",
   "metadata": {},
   "source": [
    "Namun kita harus berhati-hati karena assignment variabel bernama sama dengan parameter, berarti membuat variabel baru dalam scope lokal dan tidak terkait dengan variabel global."
   ]
  },
  {
   "cell_type": "code",
   "execution_count": 5,
   "id": "7f7fb023",
   "metadata": {},
   "outputs": [],
   "source": [
    "def rubah(daftar_list):\n",
    "    daftar_list = [3,4] \n",
    "    daftar_list.append(5)\n",
    "    print(\"Nilai dalam fungsi adalah {}\".format(daftar_list))"
   ]
  },
  {
   "cell_type": "code",
   "execution_count": 6,
   "id": "1d462b03",
   "metadata": {},
   "outputs": [
    {
     "name": "stdout",
     "output_type": "stream",
     "text": [
      "Nilai dalam fungsi adalah [3, 4, 5]\n"
     ]
    }
   ],
   "source": [
    "rubah(daftar_list)"
   ]
  },
  {
   "cell_type": "code",
   "execution_count": 7,
   "id": "6fad67fd",
   "metadata": {},
   "outputs": [],
   "source": [
    "daftar_list = [5,6]"
   ]
  },
  {
   "cell_type": "code",
   "execution_count": 8,
   "id": "0f1a6800",
   "metadata": {},
   "outputs": [
    {
     "name": "stdout",
     "output_type": "stream",
     "text": [
      "Nilai dalam fungsi adalah [3, 4, 5]\n"
     ]
    }
   ],
   "source": [
    "rubah(daftar_list)"
   ]
  },
  {
   "cell_type": "code",
   "execution_count": 9,
   "id": "7c910576",
   "metadata": {},
   "outputs": [
    {
     "name": "stdout",
     "output_type": "stream",
     "text": [
      "Nilai dalam fungsi adalah [3, 4, 5]\n",
      "Nilai di luar fungsi adalah [5, 6]\n"
     ]
    }
   ],
   "source": [
    "daftar_list = [5,6] \n",
    "rubah(daftar_list) \n",
    "print(\"Nilai di luar fungsi adalah {}\". format (daftar_list))"
   ]
  },
  {
   "cell_type": "markdown",
   "id": "b0d17ce9",
   "metadata": {},
   "source": [
    "Task"
   ]
  },
  {
   "cell_type": "code",
   "execution_count": 1,
   "id": "062c8f16",
   "metadata": {},
   "outputs": [
    {
     "name": "stdout",
     "output_type": "stream",
     "text": [
      "Nilai pada data adalah ['kadal', ['kucing', 'kelinci', 'koala']]\n"
     ]
    }
   ],
   "source": [
    "#berubah\n",
    "\n",
    "def tambah_list(data):\n",
    "    data.append(['kucing', 'kelinci', 'koala']) \n",
    "    print(\"Nilai pada data adalah {}\".format(data))\n",
    "    \n",
    "tambah_list(['kadal'])"
   ]
  },
  {
   "cell_type": "code",
   "execution_count": 2,
   "id": "37f75a3c",
   "metadata": {},
   "outputs": [
    {
     "name": "stdout",
     "output_type": "stream",
     "text": [
      "Nilai pada data adalah ['kucing', 'kelinci', 'koala', ['kadal']]\n"
     ]
    }
   ],
   "source": [
    "#tidak berubah\n",
    "\n",
    "def tambah_list2(data):\n",
    "    data = ['kucing', 'kelinci', 'koala']\n",
    "    data.append(['kadal']) \n",
    "    print(\"Nilai pada data adalah {}\".format(data))\n",
    "    \n",
    "tambah_list2(['kijang'])"
   ]
  },
  {
   "cell_type": "markdown",
   "id": "d13add81",
   "metadata": {},
   "source": [
    "Variabel daftar list dibuat kembali versi localnya dalam fungsi ubah dengan operator assignment (sama dengan), sehingga nilai daftar list akan berbeda\n",
    "karena bersifat lokal dalam fungsi ubah saja."
   ]
  },
  {
   "cell_type": "markdown",
   "id": "4b364010",
   "metadata": {},
   "source": [
    "#### Argumen dan Parameter Fungsi\n",
    "\n",
    "- Parameter adalah definisi masukan yang diterima fungsi\n",
    "- Argumen adalah hal yang kita masukkan saat memanggil fungsi tersebut."
   ]
  },
  {
   "cell_type": "code",
   "execution_count": null,
   "id": "ea82ae09",
   "metadata": {},
   "outputs": [],
   "source": [
    "def pangkat(x):\n",
    "    kuadrat = x**2\n",
    "    return kuadrat"
   ]
  },
  {
   "cell_type": "markdown",
   "id": "ea1f283e",
   "metadata": {},
   "source": [
    "x adalah parameter\n",
    "\n",
    "Namun jika kita memanggilnya:\n",
    "pangkat(3), maka 3 adalah argumen"
   ]
  },
  {
   "cell_type": "code",
   "execution_count": null,
   "id": "d9161d28",
   "metadata": {},
   "outputs": [],
   "source": [
    "def pangkat(x):\n",
    "    kuadrat = x**2\n",
    "    return kuadrat\n",
    "\n",
    "pangkat(3)"
   ]
  },
  {
   "cell_type": "code",
   "execution_count": null,
   "id": "ad0d047e",
   "metadata": {},
   "outputs": [],
   "source": []
  }
 ],
 "metadata": {
  "kernelspec": {
   "display_name": "Python 3",
   "language": "python",
   "name": "python3"
  },
  "language_info": {
   "codemirror_mode": {
    "name": "ipython",
    "version": 3
   },
   "file_extension": ".py",
   "mimetype": "text/x-python",
   "name": "python",
   "nbconvert_exporter": "python",
   "pygments_lexer": "ipython3",
   "version": "3.8.8"
  }
 },
 "nbformat": 4,
 "nbformat_minor": 5
}

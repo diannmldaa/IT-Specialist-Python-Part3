{
 "cells": [
  {
   "cell_type": "markdown",
   "id": "d48088b8",
   "metadata": {},
   "source": [
    "#### Check Existence\n"
   ]
  },
  {
   "cell_type": "code",
   "execution_count": 5,
   "id": "1c6ed231",
   "metadata": {},
   "outputs": [
    {
     "name": "stdout",
     "output_type": "stream",
     "text": [
      "What do you want to write to the log?nama\n"
     ]
    }
   ],
   "source": [
    "import os\n",
    "\n",
    "if os.path.isfile('log.txt'): \n",
    "    writeFile = open('log.txt', 'a')\n",
    "else:\n",
    "    writeFile = open('log.txt', 'w')\n",
    "\n",
    "toLog = input(\"What do you want to write to the log?\") \n",
    "writeFile.write(\"\\n\" + toLog)\n",
    "writeFile.close()"
   ]
  },
  {
   "cell_type": "markdown",
   "id": "494a846c",
   "metadata": {},
   "source": [
    "Task"
   ]
  },
  {
   "cell_type": "code",
   "execution_count": 11,
   "id": "9abd718a",
   "metadata": {},
   "outputs": [
    {
     "name": "stdout",
     "output_type": "stream",
     "text": [
      "Module name:Probability\n"
     ]
    }
   ],
   "source": [
    "import os\n",
    "\n",
    "if os.path.isfile('math.txt'): \n",
    "    writeFile = open('math.txt', 'a')\n",
    "else:\n",
    "    writeFile = open('math.txt', 'w')\n",
    "\n",
    "masukan = input(\"Module name:\") \n",
    "writeFile.write(\"\\n\" + masukan)\n",
    "writeFile.close()"
   ]
  },
  {
   "cell_type": "code",
   "execution_count": null,
   "id": "d89a6835",
   "metadata": {},
   "outputs": [],
   "source": []
  }
 ],
 "metadata": {
  "kernelspec": {
   "display_name": "Python 3",
   "language": "python",
   "name": "python3"
  },
  "language_info": {
   "codemirror_mode": {
    "name": "ipython",
    "version": 3
   },
   "file_extension": ".py",
   "mimetype": "text/x-python",
   "name": "python",
   "nbconvert_exporter": "python",
   "pygments_lexer": "ipython3",
   "version": "3.8.8"
  }
 },
 "nbformat": 4,
 "nbformat_minor": 5
}

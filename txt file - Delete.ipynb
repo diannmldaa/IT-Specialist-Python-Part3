{
 "cells": [
  {
   "cell_type": "markdown",
   "id": "d068d0ea",
   "metadata": {},
   "source": [
    "#### Delete"
   ]
  },
  {
   "cell_type": "code",
   "execution_count": 3,
   "id": "79060891",
   "metadata": {},
   "outputs": [
    {
     "name": "stdout",
     "output_type": "stream",
     "text": [
      "there was no old log file to remove\n"
     ]
    }
   ],
   "source": [
    "import os\n",
    "\n",
    "if os.path.isfile('log_old.txt'):\n",
    "    os.remove('log_old.txt')\n",
    "    print(\"the log old file has been removed\")\n",
    "else:\n",
    "    print(\"there was no old log file to remove\")"
   ]
  },
  {
   "cell_type": "markdown",
   "id": "5e49b139",
   "metadata": {},
   "source": [
    "Task"
   ]
  },
  {
   "cell_type": "code",
   "execution_count": 7,
   "id": "6cf627d3",
   "metadata": {},
   "outputs": [
    {
     "name": "stdout",
     "output_type": "stream",
     "text": [
      "the delete file has been removed\n"
     ]
    }
   ],
   "source": [
    "import os\n",
    "\n",
    "if os.path.isfile('delete.txt'):\n",
    "    os.remove('delete.txt')\n",
    "    print(\"the delete file has been removed\")\n",
    "else:\n",
    "    print(\"there was no delete file to remove\")"
   ]
  },
  {
   "cell_type": "code",
   "execution_count": null,
   "id": "8402c555",
   "metadata": {},
   "outputs": [],
   "source": []
  }
 ],
 "metadata": {
  "kernelspec": {
   "display_name": "Python 3",
   "language": "python",
   "name": "python3"
  },
  "language_info": {
   "codemirror_mode": {
    "name": "ipython",
    "version": 3
   },
   "file_extension": ".py",
   "mimetype": "text/x-python",
   "name": "python",
   "nbconvert_exporter": "python",
   "pygments_lexer": "ipython3",
   "version": "3.8.8"
  }
 },
 "nbformat": 4,
 "nbformat_minor": 5
}

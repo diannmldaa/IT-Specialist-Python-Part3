{
 "cells": [
  {
   "cell_type": "markdown",
   "id": "6d94b977",
   "metadata": {},
   "source": [
    "#### Open"
   ]
  },
  {
   "cell_type": "code",
   "execution_count": 16,
   "id": "465b40dc",
   "metadata": {},
   "outputs": [],
   "source": [
    "WorkFile = open('jackets.txt', 'r')"
   ]
  },
  {
   "cell_type": "code",
   "execution_count": 17,
   "id": "4ee87511",
   "metadata": {},
   "outputs": [],
   "source": [
    "WorkFileContents = WorkFile.read()"
   ]
  },
  {
   "cell_type": "code",
   "execution_count": 18,
   "id": "49fceb51",
   "metadata": {},
   "outputs": [
    {
     "name": "stdout",
     "output_type": "stream",
     "text": [
      "Product, Price\n",
      "Big Down Jacket, 100\n",
      "Medium Down Jacket, 80\n",
      "Regular Jacket, 40\n"
     ]
    }
   ],
   "source": [
    "print(WorkFileContents)"
   ]
  },
  {
   "cell_type": "markdown",
   "id": "4a0d839a",
   "metadata": {},
   "source": [
    "#### Read"
   ]
  },
  {
   "cell_type": "code",
   "execution_count": 19,
   "id": "6cb50948",
   "metadata": {},
   "outputs": [],
   "source": [
    "WorkFile = open('jackets.txt', 'r')"
   ]
  },
  {
   "cell_type": "code",
   "execution_count": 20,
   "id": "2ae48c9e",
   "metadata": {},
   "outputs": [
    {
     "name": "stdout",
     "output_type": "stream",
     "text": [
      "Product, Price\n",
      "\n"
     ]
    }
   ],
   "source": [
    "WorkFileFirstLine = WorkFile.readline()\n",
    "print(WorkFileFirstLine)"
   ]
  },
  {
   "cell_type": "code",
   "execution_count": 21,
   "id": "de206696",
   "metadata": {},
   "outputs": [
    {
     "name": "stdout",
     "output_type": "stream",
     "text": [
      "Big Down Jacket, 100\n",
      "\n"
     ]
    }
   ],
   "source": [
    "WorkFileSecondLine = WorkFile.readline()\n",
    "print(WorkFileSecondLine)"
   ]
  },
  {
   "cell_type": "code",
   "execution_count": 22,
   "id": "57a46dc2",
   "metadata": {},
   "outputs": [
    {
     "name": "stdout",
     "output_type": "stream",
     "text": [
      "Medium Down Jacket, 80\n",
      "\n"
     ]
    }
   ],
   "source": [
    "WorkFileThirdLine = WorkFile.readline()\n",
    "print(WorkFileThirdLine)"
   ]
  },
  {
   "cell_type": "code",
   "execution_count": 23,
   "id": "15c429ec",
   "metadata": {},
   "outputs": [
    {
     "name": "stdout",
     "output_type": "stream",
     "text": [
      "Regular Jacket, 40\n"
     ]
    }
   ],
   "source": [
    "WorkFileFourthLine = WorkFile.readline()\n",
    "print(WorkFileFourthLine)"
   ]
  },
  {
   "cell_type": "markdown",
   "id": "395971b3",
   "metadata": {},
   "source": [
    "#### Close"
   ]
  },
  {
   "cell_type": "code",
   "execution_count": 24,
   "id": "c9d64be1",
   "metadata": {},
   "outputs": [],
   "source": [
    "WorkFile.close()"
   ]
  },
  {
   "cell_type": "markdown",
   "id": "795b08f7",
   "metadata": {},
   "source": [
    "Task"
   ]
  },
  {
   "cell_type": "code",
   "execution_count": 25,
   "id": "0c015db5",
   "metadata": {},
   "outputs": [
    {
     "name": "stdout",
     "output_type": "stream",
     "text": [
      "Nama, Jurusan \n",
      "Dian, Statistika\n",
      "Dwi, Biologi\n",
      "Axel, Ilmu Komputer\n",
      "Yogi, Informatika\n",
      "Yesa, Sistem Informasi\n"
     ]
    }
   ],
   "source": [
    "#Open\n",
    "Data = open('2contoh.txt', 'r')\n",
    "DataContents = Data.read()\n",
    "print(DataContents)"
   ]
  },
  {
   "cell_type": "code",
   "execution_count": 33,
   "id": "c1ceae52",
   "metadata": {},
   "outputs": [],
   "source": [
    "#Read\n",
    "Data = open('2contoh.txt', 'r')"
   ]
  },
  {
   "cell_type": "code",
   "execution_count": 34,
   "id": "30660897",
   "metadata": {},
   "outputs": [
    {
     "name": "stdout",
     "output_type": "stream",
     "text": [
      "Nama, Jurusan \n",
      "\n"
     ]
    }
   ],
   "source": [
    "DataFirstLine = Data.readline()\n",
    "print(DataFirstLine)"
   ]
  },
  {
   "cell_type": "code",
   "execution_count": 35,
   "id": "f72f2c50",
   "metadata": {},
   "outputs": [
    {
     "name": "stdout",
     "output_type": "stream",
     "text": [
      "Dian, Statistika\n",
      "\n"
     ]
    }
   ],
   "source": [
    "DataSecondLine = Data.readline()\n",
    "print(DataSecondLine)"
   ]
  },
  {
   "cell_type": "code",
   "execution_count": 36,
   "id": "2a30b242",
   "metadata": {},
   "outputs": [
    {
     "name": "stdout",
     "output_type": "stream",
     "text": [
      "Dwi, Biologi\n",
      "\n"
     ]
    }
   ],
   "source": [
    "DataThirdLine = Data.readline()\n",
    "print(DataThirdLine)"
   ]
  },
  {
   "cell_type": "code",
   "execution_count": 38,
   "id": "23acf8b6",
   "metadata": {},
   "outputs": [
    {
     "name": "stdout",
     "output_type": "stream",
     "text": [
      "Yogi, Informatika\n",
      "\n"
     ]
    }
   ],
   "source": [
    "DataFourthLine = Data.readline()\n",
    "print(DataFourthLine)"
   ]
  },
  {
   "cell_type": "code",
   "execution_count": 6,
   "id": "e34fd699",
   "metadata": {},
   "outputs": [],
   "source": [
    "#Close"
   ]
  },
  {
   "cell_type": "code",
   "execution_count": null,
   "id": "dce6835c",
   "metadata": {},
   "outputs": [],
   "source": [
    "Data.close()"
   ]
  }
 ],
 "metadata": {
  "kernelspec": {
   "display_name": "Python 3",
   "language": "python",
   "name": "python3"
  },
  "language_info": {
   "codemirror_mode": {
    "name": "ipython",
    "version": 3
   },
   "file_extension": ".py",
   "mimetype": "text/x-python",
   "name": "python",
   "nbconvert_exporter": "python",
   "pygments_lexer": "ipython3",
   "version": "3.8.8"
  }
 },
 "nbformat": 4,
 "nbformat_minor": 5
}
